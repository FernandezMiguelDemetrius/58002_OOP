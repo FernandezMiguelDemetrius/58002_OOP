{
  "nbformat": 4,
  "nbformat_minor": 0,
  "metadata": {
    "colab": {
      "provenance": [],
      "authorship_tag": "ABX9TyMP/kiKYcIxAYL43fbhsPXc",
      "include_colab_link": true
    },
    "kernelspec": {
      "name": "python3",
      "display_name": "Python 3"
    },
    "language_info": {
      "name": "python"
    }
  },
  "cells": [
    {
      "cell_type": "markdown",
      "metadata": {
        "id": "view-in-github",
        "colab_type": "text"
      },
      "source": [
        "<a href=\"https://colab.research.google.com/github/FernandezMiguelDemetrius/58002_OOP/blob/main/OOP_Concepts.ipynb\" target=\"_parent\"><img src=\"https://colab.research.google.com/assets/colab-badge.svg\" alt=\"Open In Colab\"/></a>"
      ]
    },
    {
      "cell_type": "code",
      "execution_count": 1,
      "metadata": {
        "colab": {
          "base_uri": "https://localhost:8080/"
        },
        "id": "JLeSCVVw6IwR",
        "outputId": "13c15c80-5d26-485b-8a4c-ab76b377939f"
      },
      "outputs": [
        {
          "output_type": "stream",
          "name": "stdout",
          "text": [
            "7\n"
          ]
        }
      ],
      "source": [
        "class Foo():\n",
        "  def __init__(self, a, b):\n",
        "    self.a = a\n",
        "    self.b = b\n",
        "  def add(self):\n",
        "    return self.a + self.b\n",
        "foo_object = Foo(3, 4)\n",
        "print(foo_object.add())"
      ]
    },
    {
      "cell_type": "code",
      "source": [
        "#class with multiple object\n",
        "\n",
        "class birds:\n",
        "  def __init__(self, name_birds):\n",
        "   self.name_birds = name_birds\n",
        "  def flying_birds(self):\n",
        "   print(f\"The {self.name_birds}, is the flying bird above the sky.\")\n",
        "  def non_flying_birds(self):\n",
        "     print(f\"The {self.name_birds}, is the non-flying bird above the sky.\")\n",
        "\n",
        "eagle = birds(\"Eagle\")\n",
        "chicken = birds(\"Chicken\")\n",
        "eagle.flying_birds()\n",
        "chicken.non_flying_birds()"
      ],
      "metadata": {
        "colab": {
          "base_uri": "https://localhost:8080/"
        },
        "id": "c0IoDtpjA3nn",
        "outputId": "91968f78-bff9-488a-9b16-a4c4c73e0b21"
      },
      "execution_count": 6,
      "outputs": [
        {
          "output_type": "stream",
          "name": "stdout",
          "text": [
            "The Eagle, is the flying bird above the sky\n",
            "The Chicken, is the non flying bird above the sky\n"
          ]
        }
      ]
    },
    {
      "cell_type": "code",
      "source": [
        "class Person:\n",
        "  def __init__(self, name, birthdate):\n",
        "    self.name = name\n",
        "    self.birthdate = birthdate\n",
        "  def display(self):\n",
        "    print(\"My name is\", self.name)\n",
        "    print(\"My birthdate is\", self.birthdate)\n",
        "class Student(Person):\n",
        "  pass\n",
        "\n",
        "person = Person(\"Maria.\", \"February 13, 1990.\")\n",
        "person.display()\n",
        "\n",
        "student = Student(\"Ana.\", \"March 14, 1991.\")\n",
        "student.display()"
      ],
      "metadata": {
        "colab": {
          "base_uri": "https://localhost:8080/"
        },
        "id": "M_TbM8bQChPP",
        "outputId": "cd374761-9bb8-4413-858d-f4daa0a91754"
      },
      "execution_count": 12,
      "outputs": [
        {
          "output_type": "stream",
          "name": "stdout",
          "text": [
            "My name is Maria.\n",
            "My birthdate is February 13, 1990.\n",
            "My name is Ana.\n",
            "My birthdate is March 14, 1991.\n"
          ]
        }
      ]
    },
    {
      "cell_type": "code",
      "source": [
        "# Create a class name Shapes (5 shapes)\n",
        "# attributes side\n",
        "# create a function/method that displays the no. of sides of each shapes\n",
        "# apply inheritance and encapsulation\n",
        "\n",
        "class Shape:\n",
        "  def __init__(self,shape,sides):\n",
        "    self.shape = shape\n",
        "    self.sides = sides\n",
        "  def  display(self):\n",
        "    print(\"The shape is\", self.shape)\n",
        "    print(\"It has\", self.sides)\n",
        "class Shape(Shape):\n",
        "  pass\n",
        "\n",
        "shape = Shape(\"Rectangle.\", \"4 sides.\")\n",
        "shape.display()      \n",
        "\n",
        "shape = Shape(\"Triangle.\", \"3 sides.\")\n",
        "shape.display()\n",
        "\n",
        "shape = Shape(\"Circle.\", \"No sides.\")\n",
        "shape.display()\n",
        "\n",
        "shape = Shape(\"Hexagon.\", \"6 sides.\")\n",
        "shape.display()\n",
        "\n",
        "shape = Shape(\"Nonagon.\", \"9 sides.\")\n",
        "shape.display()"
      ],
      "metadata": {
        "colab": {
          "base_uri": "https://localhost:8080/"
        },
        "id": "IEdU3EdCEjdp",
        "outputId": "6a043100-5828-4e17-ac58-695880e85297"
      },
      "execution_count": 16,
      "outputs": [
        {
          "output_type": "stream",
          "name": "stdout",
          "text": [
            "The shape is Rectangle.\n",
            "It has 4 sides.\n",
            "The shape is Triangle.\n",
            "It has 3 sides.\n",
            "The shape is Circle.\n",
            "It has No sides.\n",
            "The shape is Hexagon.\n",
            "It has 6 sides.\n",
            "The shape is Nonagon.\n",
            "It has 9 sides.\n"
          ]
        }
      ]
    }
  ]
}