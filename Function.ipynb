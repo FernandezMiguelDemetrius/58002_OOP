{
  "nbformat": 4,
  "nbformat_minor": 0,
  "metadata": {
    "colab": {
      "provenance": [],
      "authorship_tag": "ABX9TyNugX5JbN0sPmykHk9a7uwK",
      "include_colab_link": true
    },
    "kernelspec": {
      "name": "python3",
      "display_name": "Python 3"
    },
    "language_info": {
      "name": "python"
    }
  },
  "cells": [
    {
      "cell_type": "markdown",
      "metadata": {
        "id": "view-in-github",
        "colab_type": "text"
      },
      "source": [
        "<a href=\"https://colab.research.google.com/github/FernandezMiguelDemetrius/58002_OOP/blob/main/Function.ipynb\" target=\"_parent\"><img src=\"https://colab.research.google.com/assets/colab-badge.svg\" alt=\"Open In Colab\"/></a>"
      ]
    },
    {
      "cell_type": "code",
      "execution_count": 5,
      "metadata": {
        "id": "aLiNLjG2zsy9",
        "colab": {
          "base_uri": "https://localhost:8080/"
        },
        "outputId": "371fe33c-0361-4e30-a541-00ac4cffc93b"
      },
      "outputs": [
        {
          "output_type": "stream",
          "name": "stdout",
          "text": [
            "My name is Miguel Demetrius Fernandez\n"
          ]
        }
      ],
      "source": [
        "class Person:\n",
        "     def __init__(self, name):\n",
        "        self.name = name\n",
        "    \n",
        "     def display_name(self):\n",
        "        print(\"My name is\", self.name)\n",
        "\n",
        "# Example usage:\n",
        "p = Person(\"Miguel Demetrius Fernandez\")\n",
        "p.display_name()"
      ]
    }
  ]
}