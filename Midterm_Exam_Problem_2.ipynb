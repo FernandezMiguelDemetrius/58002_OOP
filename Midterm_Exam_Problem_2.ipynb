{
  "nbformat": 4,
  "nbformat_minor": 0,
  "metadata": {
    "colab": {
      "provenance": [],
      "authorship_tag": "ABX9TyMEFlPFiu9yfWrPyQdykpty",
      "include_colab_link": true
    },
    "kernelspec": {
      "name": "python3",
      "display_name": "Python 3"
    },
    "language_info": {
      "name": "python"
    }
  },
  "cells": [
    {
      "cell_type": "markdown",
      "metadata": {
        "id": "view-in-github",
        "colab_type": "text"
      },
      "source": [
        "<a href=\"https://colab.research.google.com/github/FernandezMiguelDemetrius/58002_OOP/blob/main/Midterm_Exam_Problem_2.ipynb\" target=\"_parent\"><img src=\"https://colab.research.google.com/assets/colab-badge.svg\" alt=\"Open In Colab\"/></a>"
      ]
    },
    {
      "cell_type": "code",
      "execution_count": null,
      "metadata": {
        "id": "YOs-TfHEWot5"
      },
      "outputs": [],
      "source": [
        "from tkinter import *\n",
        "\n",
        "class FullName:\n",
        "    def __init__(self, win):\n",
        "        lbl1 = Label(win, text='First Name:', font=('Verdana', 12), fg='red', anchor='center')\n",
        "        lbl1.place(x=50, y=50)\n",
        "\n",
        "        self.ent1 = Entry(win, bd=1)\n",
        "        self.ent1.place(x=200, y=50)\n",
        "\n",
        "        lbl2 = Label(win, text='Middle Name:', font=('Verdana', 12), fg='red', anchor='center')\n",
        "        lbl2.place(x=50, y=100)\n",
        "\n",
        "        self.ent2 = Entry(win, bd=1)\n",
        "        self.ent2.place(x=200, y=100)\n",
        "\n",
        "        lbl3 = Label(win, text='Last Name:', font=('Verdana', 12), fg='red', anchor='center')\n",
        "        lbl3.place(x=50, y=150)\n",
        "\n",
        "        self.ent3 = Entry(win, bd=1)\n",
        "        self.ent3.place(x=200, y=150)\n",
        "\n",
        "        self.lbl4 = Label(win, text='Full Name:', font=('Verdana', 12), fg='red', anchor='center')\n",
        "        self.lbl4.place(x=50, y=200)\n",
        "\n",
        "        self.ent4 = Entry(win, bd=1)\n",
        "        self.ent4.place(x=200, y=200)\n",
        "\n",
        "        self.btnsfn = Button(win, text='Show Full Name')\n",
        "        self.btnsfn.place(x=200, y=250)\n",
        "        self.btnsfn.bind('<Button-1>', self.sfn)\n",
        "\n",
        "    def sfn(self, event):\n",
        "        self.ent4.delete(0, 'end')\n",
        "        num1 = str(self.ent1.get())\n",
        "        num2 = str(self.ent2.get())\n",
        "        num3 = str(self.ent3.get())\n",
        "        result = num1 + ' ' + num2 + ' ' + num3\n",
        "        self.ent4.insert(END, str(result))\n",
        "\n",
        "window = Tk()\n",
        "mywin = FullName(window)\n",
        "window.geometry('400x300+10+10')\n",
        "window.title('My Full Name')\n",
        "window.mainloop()"
      ]
    }
  ]
}