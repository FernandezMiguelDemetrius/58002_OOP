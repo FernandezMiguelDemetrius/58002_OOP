{
  "nbformat": 4,
  "nbformat_minor": 0,
  "metadata": {
    "colab": {
      "provenance": [],
      "authorship_tag": "ABX9TyNWwU9LLCVt2v36pAOp9X5r",
      "include_colab_link": true
    },
    "kernelspec": {
      "name": "python3",
      "display_name": "Python 3"
    },
    "language_info": {
      "name": "python"
    }
  },
  "cells": [
    {
      "cell_type": "markdown",
      "metadata": {
        "id": "view-in-github",
        "colab_type": "text"
      },
      "source": [
        "<a href=\"https://colab.research.google.com/github/FernandezMiguelDemetrius/58002_OOP/blob/main/TempConversion.ipynb\" target=\"_parent\"><img src=\"https://colab.research.google.com/assets/colab-badge.svg\" alt=\"Open In Colab\"/></a>"
      ]
    },
    {
      "cell_type": "code",
      "execution_count": 1,
      "metadata": {
        "colab": {
          "base_uri": "https://localhost:8080/"
        },
        "id": "VEkZZJIz9wqJ",
        "outputId": "d2b53ec7-83a4-4c7b-f125-e469f29acf33"
      },
      "outputs": [
        {
          "output_type": "stream",
          "name": "stdout",
          "text": [
            "Enter a temperature: 88\n",
            "Enter the unit of the temperature (F/C/K): K\n",
            "88.0 Kelvin is equal to -185.15 Celsius, -301.27 Fahrenheit\n"
          ]
        }
      ],
      "source": [
        "def fahrenheit_to_celsius(fahrenheit):\n",
        "    celsius = (fahrenheit - 32) * 5/9\n",
        "    return celsius\n",
        "\n",
        "def celsius_to_fahrenheit(celsius):\n",
        "    fahrenheit = (celsius * 9/5) + 32\n",
        "    return fahrenheit\n",
        "\n",
        "def kelvin_to_celsius(kelvin):\n",
        "    celsius = kelvin - 273.15\n",
        "    return celsius\n",
        "\n",
        "def celsius_to_kelvin(celsius):\n",
        "    kelvin = celsius + 273.15\n",
        "    return kelvin\n",
        "\n",
        "def fahrenheit_to_kelvin(fahrenheit):\n",
        "    kelvin = (fahrenheit + 459.67) * 5/9\n",
        "    return kelvin\n",
        "\n",
        "def kelvin_to_fahrenheit(kelvin):\n",
        "    fahrenheit = (kelvin * 9/5) - 459.67\n",
        "    return fahrenheit\n",
        "\n",
        "temperature = float(input(\"Enter a temperature: \"))\n",
        "unit = input(\"Enter the unit of the temperature (F/C/K): \")\n",
        "\n",
        "if unit == 'F':\n",
        "    celsius = fahrenheit_to_celsius(temperature)\n",
        "    kelvin = fahrenheit_to_kelvin(temperature)\n",
        "    print(f\"{temperature} Fahrenheit is equal to {celsius:.2f} Celsius, {kelvin:.2f} Kelvin\")\n",
        "elif unit == 'C':\n",
        "    fahrenheit = celsius_to_fahrenheit(temperature)\n",
        "    kelvin = celsius_to_kelvin(temperature)\n",
        "    print(f\"{temperature} Celsius is equal to {fahrenheit:.2f} Fahrenheit, {kelvin:.2f} Kelvin\")\n",
        "elif unit == 'K':\n",
        "    celsius = kelvin_to_celsius(temperature)\n",
        "    fahrenheit = kelvin_to_fahrenheit(temperature)\n",
        "    print(f\"{temperature} Kelvin is equal to {celsius:.2f} Celsius, {fahrenheit:.2f} Fahrenheit\")\n",
        "else:\n",
        "    print(\"Invalid unit of temperature. Please enter F, C, or K.\")\n"
      ]
    }
  ]
}