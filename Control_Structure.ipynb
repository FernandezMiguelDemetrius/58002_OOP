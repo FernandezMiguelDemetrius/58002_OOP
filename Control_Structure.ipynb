{
  "nbformat": 4,
  "nbformat_minor": 0,
  "metadata": {
    "colab": {
      "provenance": [],
      "authorship_tag": "ABX9TyOVK8YsnyEjTo28KcAJzQF9",
      "include_colab_link": true
    },
    "kernelspec": {
      "name": "python3",
      "display_name": "Python 3"
    },
    "language_info": {
      "name": "python"
    }
  },
  "cells": [
    {
      "cell_type": "markdown",
      "metadata": {
        "id": "view-in-github",
        "colab_type": "text"
      },
      "source": [
        "<a href=\"https://colab.research.google.com/github/FernandezMiguelDemetrius/58002_OOP/blob/main/Control_Structure.ipynb\" target=\"_parent\"><img src=\"https://colab.research.google.com/assets/colab-badge.svg\" alt=\"Open In Colab\"/></a>"
      ]
    },
    {
      "cell_type": "markdown",
      "source": [
        "If statement"
      ],
      "metadata": {
        "id": "NUKXElK_kzLX"
      }
    },
    {
      "cell_type": "code",
      "execution_count": 1,
      "metadata": {
        "colab": {
          "base_uri": "https://localhost:8080/"
        },
        "id": "PEyNVWTSkrKA",
        "outputId": "ae0e262e-3510-4fac-a70b-f7afcf87c0ad"
      },
      "outputs": [
        {
          "output_type": "stream",
          "name": "stdout",
          "text": [
            "a is less than b\n"
          ]
        }
      ],
      "source": [
        "#If statement\n",
        "a = 50\n",
        "b = 100\n",
        "if a>b:\n",
        "  print(\"a is greater than b\")"
      ]
    },
    {
      "cell_type": "code",
      "source": [
        "#ElIf Statement\n",
        "if a>b:\n",
        "  print(\"a is greater than b\")\n",
        "elif a<b:\n",
        "  print(\"a is less than b\")  "
      ],
      "metadata": {
        "colab": {
          "base_uri": "https://localhost:8080/"
        },
        "id": "JEX-82cilSfB",
        "outputId": "eb47a03f-6221-4d8a-b99c-a74537ab0824"
      },
      "execution_count": 2,
      "outputs": [
        {
          "output_type": "stream",
          "name": "stdout",
          "text": [
            "a is greater than b\n"
          ]
        }
      ]
    },
    {
      "cell_type": "code",
      "source": [
        "#Else Statement\n",
        "if a>b:\n",
        "  print(\"a is greater than b\")\n",
        "elif a<b:\n",
        "  print(\"a is less than b\")  \n",
        "else:\n",
        "  print(\"a is equal to b\")"
      ],
      "metadata": {
        "colab": {
          "base_uri": "https://localhost:8080/"
        },
        "id": "eII21_QFltIf",
        "outputId": "7258112c-fdaf-4c0b-f318-449b4865dd90"
      },
      "execution_count": 4,
      "outputs": [
        {
          "output_type": "stream",
          "name": "stdout",
          "text": [
            "a is greater than b\n"
          ]
        }
      ]
    },
    {
      "cell_type": "markdown",
      "source": [
        "Short Hand if"
      ],
      "metadata": {
        "id": "DJ8eEtbemTPn"
      }
    },
    {
      "cell_type": "code",
      "source": [
        "if a==b: print(\"a is equal to b\")"
      ],
      "metadata": {
        "id": "sdagfqZjmXV3"
      },
      "execution_count": 6,
      "outputs": []
    },
    {
      "cell_type": "markdown",
      "source": [
        "Short Hand If... Else"
      ],
      "metadata": {
        "id": "HoH23pznmwP3"
      }
    },
    {
      "cell_type": "code",
      "source": [],
      "metadata": {
        "id": "6H9w3MF2moL3"
      },
      "execution_count": null,
      "outputs": []
    },
    {
      "cell_type": "markdown",
      "source": [
        "EXAMPLE 1"
      ],
      "metadata": {
        "id": "ltiAuupzxHED"
      }
    },
    {
      "cell_type": "code",
      "source": [
        "x = int(input(\"Enter your age: \"))\n",
        "\n",
        "if x >= 18:\n",
        "    print(\"You can Vote!\")\n",
        "  \n",
        "else:\n",
        "     print(\"You can't Vote.\") "
      ],
      "metadata": {
        "colab": {
          "base_uri": "https://localhost:8080/"
        },
        "id": "eczF6IYmxJkK",
        "outputId": "6e81dc02-8a7d-4ba8-8c4b-298f70d92a2b"
      },
      "execution_count": 20,
      "outputs": [
        {
          "output_type": "stream",
          "name": "stdout",
          "text": [
            "Enter your age: 65\n",
            "You can Vote!\n"
          ]
        }
      ]
    },
    {
      "cell_type": "markdown",
      "source": [
        "EXAMPLE 2"
      ],
      "metadata": {
        "id": "o44iSoDG0scB"
      }
    },
    {
      "cell_type": "code",
      "source": [
        "y = int(input(\"Enter a number: \"))\n",
        "\n",
        "if y>1:\n",
        "  print(\"POSITIVE\")\n",
        "elif y==0:\n",
        "  print(\"ZERO\")\n",
        "else:\n",
        "  print(\"NEGATIVE\")  "
      ],
      "metadata": {
        "colab": {
          "base_uri": "https://localhost:8080/"
        },
        "id": "wmnzbOiN0vJR",
        "outputId": "d25a88a1-48c3-4280-b32c-a231f45ca7c4"
      },
      "execution_count": 26,
      "outputs": [
        {
          "output_type": "stream",
          "name": "stdout",
          "text": [
            "Enter a number: 0\n",
            "ZERO\n"
          ]
        }
      ]
    },
    {
      "cell_type": "markdown",
      "source": [
        "EXAMPLE 3"
      ],
      "metadata": {
        "id": "KUyHcRzq1leJ"
      }
    },
    {
      "cell_type": "code",
      "source": [],
      "metadata": {
        "id": "Ax46dR1K1oDg"
      },
      "execution_count": null,
      "outputs": []
    }
  ]
}