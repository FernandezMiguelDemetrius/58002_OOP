{
  "nbformat": 4,
  "nbformat_minor": 0,
  "metadata": {
    "colab": {
      "provenance": [],
      "authorship_tag": "ABX9TyMxtXNnAlrvK0wdjD9CUgVX",
      "include_colab_link": true
    },
    "kernelspec": {
      "name": "python3",
      "display_name": "Python 3"
    },
    "language_info": {
      "name": "python"
    }
  },
  "cells": [
    {
      "cell_type": "markdown",
      "metadata": {
        "id": "view-in-github",
        "colab_type": "text"
      },
      "source": [
        "<a href=\"https://colab.research.google.com/github/FernandezMiguelDemetrius/58002_OOP/blob/main/Hands_On1.ipynb\" target=\"_parent\"><img src=\"https://colab.research.google.com/assets/colab-badge.svg\" alt=\"Open In Colab\"/></a>"
      ]
    },
    {
      "cell_type": "code",
      "execution_count": 3,
      "metadata": {
        "colab": {
          "base_uri": "https://localhost:8080/"
        },
        "id": "NMzhkEm5-McY",
        "outputId": "cb08c336-bfdd-4d20-a699-7a424b3e2aa7"
      },
      "outputs": [
        {
          "output_type": "stream",
          "name": "stdout",
          "text": [
            "Student 1 grades: 81 96 96\n",
            "Student 1 average grade: 91.0\n",
            "Student 2 grades: 73 79 98\n",
            "Student 2 average grade: 83.33333333333333\n",
            "Student 3 grades: 93 81 95\n",
            "Student 3 average grade: 89.66666666666667\n"
          ]
        }
      ],
      "source": [
        "class Person:\n",
        "    def __init__(self, name, prelim, midterm, final):\n",
        "        self.name = name\n",
        "        self.__pre = prelim\n",
        "        self.__mid = midterm\n",
        "        self.__fin = final\n",
        "        \n",
        "    def pre_grade(self):\n",
        "        return self.__pre\n",
        "    \n",
        "    def mid_grade(self):\n",
        "        return self.__mid\n",
        "    \n",
        "    def fin_grade(self):\n",
        "        return self.__fin\n",
        "    \n",
        "    def grade_average(self):\n",
        "        return (self.__pre + self.__mid + self.__fin) / 3\n",
        "\n",
        "std1 = Person(\"Student 1\", 81, 96, 96)\n",
        "std2 = Person(\"Student 2\", 73, 79, 98)\n",
        "std3 = Person(\"Student 3\", 93, 81, 95)\n",
        "\n",
        "print(f\"Student 1 grades:\", std1.pre_grade(), std1.mid_grade(), std1.fin_grade())\n",
        "print(f\"Student 1 average grade:\", std1.grade_average())\n",
        "print(f\"Student 2 grades:\", std2.pre_grade(), std2.mid_grade(), std2.fin_grade())\n",
        "print(f\"Student 2 average grade:\", std2.grade_average())\n",
        "print(f\"Student 3 grades:\", std3.pre_grade(), std3.mid_grade(), std3.fin_grade())\n",
        "print(f\"Student 3 average grade:\", std3.grade_average())"
      ]
    }
  ]
}