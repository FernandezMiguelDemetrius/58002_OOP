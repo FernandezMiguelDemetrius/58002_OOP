{
  "nbformat": 4,
  "nbformat_minor": 0,
  "metadata": {
    "colab": {
      "provenance": [],
      "authorship_tag": "ABX9TyNVYt3vr3Lfoqj3ZZd0C0Dv",
      "include_colab_link": true
    },
    "kernelspec": {
      "name": "python3",
      "display_name": "Python 3"
    },
    "language_info": {
      "name": "python"
    }
  },
  "cells": [
    {
      "cell_type": "markdown",
      "metadata": {
        "id": "view-in-github",
        "colab_type": "text"
      },
      "source": [
        "<a href=\"https://colab.research.google.com/github/FernandezMiguelDemetrius/58002_OOP/blob/main/OOP_Concepts_.ipynb\" target=\"_parent\"><img src=\"https://colab.research.google.com/assets/colab-badge.svg\" alt=\"Open In Colab\"/></a>"
      ]
    },
    {
      "cell_type": "code",
      "execution_count": 1,
      "metadata": {
        "colab": {
          "base_uri": "https://localhost:8080/"
        },
        "id": "fWMLG0pCCAod",
        "outputId": "02a52bf3-894b-47bb-b1d2-5857f9967e09"
      },
      "outputs": [
        {
          "output_type": "stream",
          "name": "stdout",
          "text": [
            "25\n",
            "The area of the square is 25\n",
            "None\n"
          ]
        }
      ],
      "source": [
        "class Shapes:\n",
        "  def __init__(self,side):\n",
        "    self.side = side\n",
        "\n",
        "  def area(self):\n",
        "    return self.side *self.side\n",
        "\n",
        "  def display(self):\n",
        "    print(\"The area of the square is\",self.area())\n",
        "\n",
        "square = Shapes(5)\n",
        "print(square.area())\n",
        "print(square.display())"
      ]
    },
    {
      "cell_type": "code",
      "source": [
        "#Inheritance\n",
        "\n",
        "class Shapes:\n",
        "  def __init__(self,side1,side2):\n",
        "    self.side1 = side1\n",
        "    self.side2 = side2\n",
        "  \n",
        "class Square(Shapes):\n",
        "  def area_square(self):\n",
        "    return self.side1*self.side1\n",
        "  def display_square(self):\n",
        "    print(\"The area of square is\",self.area_square())\n",
        "\n",
        "\n",
        "class Rectangle(Shapes):\n",
        "  def area_rectangle(self):\n",
        "    print(self.side1*self.side2)\n",
        "  def display_rectangle(self):\n",
        "    print(\"The area of rectangle is\",self.display_rectangle())\n",
        "\n",
        "square = Square(4,4)\n",
        "\n",
        "rectangle = Rectangle(10,5)\n",
        "\n",
        "square.display_square()\n",
        "rectangle.display_rectangle()"
      ],
      "metadata": {
        "id": "f6yLzefdDxV5"
      },
      "execution_count": null,
      "outputs": []
    },
    {
      "cell_type": "code",
      "source": [
        "#Create a Python program with the following\n",
        "\n",
        "class Student:\n",
        "  def __init__(self, fullname, student_number, school):\n",
        "    self.fullname = fullname\n",
        "    self.student_number = student_number\n",
        "    self.school = school\n",
        "  \n",
        "  def display_info(self):\n",
        "    print(f\"Fullname: {self.fullname}\\nStudent_number: {self.student_number}\\nSchool: {self.school}\" )\n",
        "\n",
        "student = Student(\"Miguel Demetrius Fernandez\", \"202212074\", \"Adamson University\")\n",
        "student.display_info()    "
      ],
      "metadata": {
        "colab": {
          "base_uri": "https://localhost:8080/"
        },
        "id": "qZ0e3_uSET1J",
        "outputId": "0689aa90-0877-42fb-addb-6c4d05566304"
      },
      "execution_count": 3,
      "outputs": [
        {
          "output_type": "stream",
          "name": "stdout",
          "text": [
            "Fullname: Miguel Demetrius Fernandez\n",
            "Student_number: 202212074\n",
            "School: Adamson University\n"
          ]
        }
      ]
    }
  ]
}